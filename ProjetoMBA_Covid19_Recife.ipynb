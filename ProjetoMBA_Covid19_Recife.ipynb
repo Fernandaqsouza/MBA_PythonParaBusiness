{
  "nbformat": 4,
  "nbformat_minor": 0,
  "metadata": {
    "colab": {
      "provenance": [],
      "include_colab_link": true
    },
    "kernelspec": {
      "name": "python3",
      "display_name": "Python 3"
    },
    "language_info": {
      "name": "python"
    }
  },
  "cells": [
    {
      "cell_type": "markdown",
      "metadata": {
        "id": "view-in-github",
        "colab_type": "text"
      },
      "source": [
        "<a href=\"https://colab.research.google.com/github/Fernandaqsouza/MBA_PythonParaBusiness/blob/main/ProjetoMBA_Covid19_Recife.ipynb\" target=\"_parent\"><img src=\"https://colab.research.google.com/assets/colab-badge.svg\" alt=\"Open In Colab\"/></a>"
      ]
    },
    {
      "cell_type": "markdown",
      "metadata": {
        "id": "f_wzKZ5s6_aV"
      },
      "source": [
        "#**Projeto MBA: Casos graves de COVID 19 de Recife**\n",
        "\n",
        "**Fonte da base de dados:** *http://dados.recife.pe.gov.br/dataset/casos-graves-covid-19*\n",
        "\n",
        "**Membros:** Fernanda Souza e Janaina Marques\n",
        "\n",
        "Projeto com o objetivo de analisar os dados de casos graves de COVID 19 na cidade do Recife desde o inicio da pandemia até o momento, visando praticar a teoria aprendida na disciplina *Phyton para Business Intelligence* do curso *MBA em BI & Analytics*.\n",
        "\n",
        "##Perguntas que gostariamos de responder:\n",
        "1. Qual o percentual de casos graves que foram óbitos desde o ínicio da pandemia?\n",
        "2. Há alguma relação dos casos que foram a óbito com o genero dos pacientes?\n",
        "3. Qual a quantidade de óbitos por mês?\n",
        "4. Visto que o número de óbitos em 2021 foi menor do que 2020, tem-se a mesma tendencia em todos os bairros do Recife?\n",
        "5. Qual o percentual de pacientes de casos graves que são profissionais da saude?\n",
        "6. Ter alguma doença preexistente influencia na evolução para óbito?"
      ]
    },
    {
      "cell_type": "code",
      "metadata": {
        "id": "CGtV3eapv2Lv"
      },
      "source": [
        "# Importação da biblioteca Pandas, funções regulares e matplotlib-pyplot\n",
        "\n",
        "import pandas as pd\n",
        "import re\n",
        "import matplotlib.pyplot as plt"
      ],
      "execution_count": null,
      "outputs": []
    },
    {
      "cell_type": "code",
      "metadata": {
        "colab": {
          "base_uri": "https://localhost:8080/"
        },
        "id": "m-_hZFYxwXJL",
        "outputId": "9cd0cc1c-52d8-4bbd-a4e6-f73107b28daf"
      },
      "source": [
        "#Acesso ao drive onde está localizado o DataFrame que iremos analisar\n",
        "\n",
        "from google.colab import drive\n",
        "drive.mount('/content/drive')"
      ],
      "execution_count": null,
      "outputs": [
        {
          "output_type": "stream",
          "name": "stdout",
          "text": [
            "Mounted at /content/drive\n"
          ]
        }
      ]
    },
    {
      "cell_type": "code",
      "metadata": {
        "id": "9yWXCy1Bxio-"
      },
      "source": [
        "# Leitura do banco de dados a ser analisado e atribuição à variável \"df\" \n",
        "\n",
        "arquivo_csv = \"/content/drive/My Drive/arq_covid/93f4e8c2-430f-4142-86b3-96dab4905b4e (1).csv\"\n",
        "df = pd.read_csv(arquivo_csv, sep=',')"
      ],
      "execution_count": null,
      "outputs": []
    },
    {
      "cell_type": "code",
      "metadata": {
        "colab": {
          "base_uri": "https://localhost:8080/",
          "height": 394
        },
        "id": "hN4-CohfyQkU",
        "outputId": "01ab8255-fb92-48b9-b48f-a8d6129184fa"
      },
      "source": [
        "#Leitura das primeiras linhas do data frame a ser analisado\n",
        "\n",
        "df.head()"
      ],
      "execution_count": null,
      "outputs": [
        {
          "output_type": "execute_result",
          "data": {
            "text/html": [
              "<div>\n",
              "<style scoped>\n",
              "    .dataframe tbody tr th:only-of-type {\n",
              "        vertical-align: middle;\n",
              "    }\n",
              "\n",
              "    .dataframe tbody tr th {\n",
              "        vertical-align: top;\n",
              "    }\n",
              "\n",
              "    .dataframe thead th {\n",
              "        text-align: right;\n",
              "    }\n",
              "</style>\n",
              "<table border=\"1\" class=\"dataframe\">\n",
              "  <thead>\n",
              "    <tr style=\"text-align: right;\">\n",
              "      <th></th>\n",
              "      <th>_id</th>\n",
              "      <th>data_notificacao</th>\n",
              "      <th>sexo</th>\n",
              "      <th>idade</th>\n",
              "      <th>data_inicio_sintomas</th>\n",
              "      <th>raca</th>\n",
              "      <th>etnia</th>\n",
              "      <th>sintomas_apresentados</th>\n",
              "      <th>outros_sintomas</th>\n",
              "      <th>doencas_preexistentes</th>\n",
              "      <th>outras_doencas_preexistentes</th>\n",
              "      <th>evolucao</th>\n",
              "      <th>classificacao_final</th>\n",
              "      <th>data_obito</th>\n",
              "      <th>profissional_saude</th>\n",
              "      <th>categoria_profissional</th>\n",
              "      <th>municipio_notificacao</th>\n",
              "      <th>bairro</th>\n",
              "      <th>ds</th>\n",
              "    </tr>\n",
              "  </thead>\n",
              "  <tbody>\n",
              "    <tr>\n",
              "      <th>0</th>\n",
              "      <td>1</td>\n",
              "      <td>2021-03-02T00:00:00</td>\n",
              "      <td>Masculino</td>\n",
              "      <td>9 meses</td>\n",
              "      <td>2021-02-24T00:00:00</td>\n",
              "      <td>Ignorado</td>\n",
              "      <td>NaN</td>\n",
              "      <td>Febre, Tosse, Dispneia, Coriza / Congestão Nasal</td>\n",
              "      <td>NaN</td>\n",
              "      <td>Doenças Respiratórias Crônicas</td>\n",
              "      <td>NaN</td>\n",
              "      <td>INTERNADO LEITO DE ISOLAMENTO</td>\n",
              "      <td>DESCARTADO</td>\n",
              "      <td>NaN</td>\n",
              "      <td>NÃO</td>\n",
              "      <td>NaN</td>\n",
              "      <td>Recife</td>\n",
              "      <td>PASSARINHO</td>\n",
              "      <td>VII</td>\n",
              "    </tr>\n",
              "    <tr>\n",
              "      <th>1</th>\n",
              "      <td>2</td>\n",
              "      <td>2021-03-03T00:00:00</td>\n",
              "      <td>Feminino</td>\n",
              "      <td>46</td>\n",
              "      <td>2021-02-28T00:00:00</td>\n",
              "      <td>Branca</td>\n",
              "      <td>NaN</td>\n",
              "      <td>Dispneia, Dor de Garganta, Cansaço/fadiga, Cef...</td>\n",
              "      <td>NaN</td>\n",
              "      <td>NaN</td>\n",
              "      <td>NaN</td>\n",
              "      <td>INTERNADO LEITO DE ISOLAMENTO</td>\n",
              "      <td>EM ANÁLISE</td>\n",
              "      <td>NaN</td>\n",
              "      <td>NÃO</td>\n",
              "      <td>NaN</td>\n",
              "      <td>Recife</td>\n",
              "      <td>BOA VIAGEM</td>\n",
              "      <td>VI</td>\n",
              "    </tr>\n",
              "    <tr>\n",
              "      <th>2</th>\n",
              "      <td>3</td>\n",
              "      <td>2021-01-08T00:00:00</td>\n",
              "      <td>Masculino</td>\n",
              "      <td>78</td>\n",
              "      <td>2021-01-06T00:00:00</td>\n",
              "      <td>Branca</td>\n",
              "      <td>NaN</td>\n",
              "      <td>Tosse, Dispneia, Dor de Garganta, Cansaço/fadi...</td>\n",
              "      <td>NaN</td>\n",
              "      <td>Doenças Cardíacas ou Vasculares, Doença Hepáti...</td>\n",
              "      <td>NaN</td>\n",
              "      <td>ÓBITO</td>\n",
              "      <td>CONFIRMADO</td>\n",
              "      <td>2021-01-26T00:00:00</td>\n",
              "      <td>NÃO</td>\n",
              "      <td>NaN</td>\n",
              "      <td>Recife</td>\n",
              "      <td>BOA VIAGEM</td>\n",
              "      <td>VI</td>\n",
              "    </tr>\n",
              "    <tr>\n",
              "      <th>3</th>\n",
              "      <td>4</td>\n",
              "      <td>2021-03-02T00:00:00</td>\n",
              "      <td>Feminino</td>\n",
              "      <td>62</td>\n",
              "      <td>2021-02-23T00:00:00</td>\n",
              "      <td>Parda</td>\n",
              "      <td>NaN</td>\n",
              "      <td>Febre, Tosse, Dor de Garganta, Cansaço/fadiga,...</td>\n",
              "      <td>NaN</td>\n",
              "      <td>NaN</td>\n",
              "      <td>NaN</td>\n",
              "      <td>INTERNADO LEITO DE ISOLAMENTO</td>\n",
              "      <td>EM ANÁLISE</td>\n",
              "      <td>NaN</td>\n",
              "      <td>NÃO</td>\n",
              "      <td>NaN</td>\n",
              "      <td>Recife</td>\n",
              "      <td>DOIS UNIDOS</td>\n",
              "      <td>II</td>\n",
              "    </tr>\n",
              "    <tr>\n",
              "      <th>4</th>\n",
              "      <td>5</td>\n",
              "      <td>2021-03-01T00:00:00</td>\n",
              "      <td>Masculino</td>\n",
              "      <td>26</td>\n",
              "      <td>2021-02-24T00:00:00</td>\n",
              "      <td>Parda</td>\n",
              "      <td>NaN</td>\n",
              "      <td>Tosse, Dor de Garganta, Desconforto respiratór...</td>\n",
              "      <td>NaN</td>\n",
              "      <td>NaN</td>\n",
              "      <td>NaN</td>\n",
              "      <td>INTERNADO LEITO DE ISOLAMENTO</td>\n",
              "      <td>DESCARTADO</td>\n",
              "      <td>NaN</td>\n",
              "      <td>NÃO</td>\n",
              "      <td>NaN</td>\n",
              "      <td>Recife</td>\n",
              "      <td>NOVA DESCOBERTA</td>\n",
              "      <td>VII</td>\n",
              "    </tr>\n",
              "  </tbody>\n",
              "</table>\n",
              "</div>"
            ],
            "text/plain": [
              "   _id     data_notificacao  ...           bairro   ds\n",
              "0    1  2021-03-02T00:00:00  ...       PASSARINHO  VII\n",
              "1    2  2021-03-03T00:00:00  ...       BOA VIAGEM   VI\n",
              "2    3  2021-01-08T00:00:00  ...       BOA VIAGEM   VI\n",
              "3    4  2021-03-02T00:00:00  ...      DOIS UNIDOS   II\n",
              "4    5  2021-03-01T00:00:00  ...  NOVA DESCOBERTA  VII\n",
              "\n",
              "[5 rows x 19 columns]"
            ]
          },
          "metadata": {},
          "execution_count": 4
        }
      ]
    },
    {
      "cell_type": "code",
      "metadata": {
        "id": "gCzW4xxxcrXL",
        "colab": {
          "base_uri": "https://localhost:8080/"
        },
        "outputId": "ec046f5b-5e49-4b59-84c6-7e9ae49e85fe"
      },
      "source": [
        "#Análise dos tipos e colunas que estão no data frame\n",
        "\n",
        "df.info()"
      ],
      "execution_count": null,
      "outputs": [
        {
          "output_type": "stream",
          "name": "stdout",
          "text": [
            "<class 'pandas.core.frame.DataFrame'>\n",
            "RangeIndex: 30416 entries, 0 to 30415\n",
            "Data columns (total 19 columns):\n",
            " #   Column                        Non-Null Count  Dtype \n",
            "---  ------                        --------------  ----- \n",
            " 0   _id                           30416 non-null  int64 \n",
            " 1   data_notificacao              30416 non-null  object\n",
            " 2   sexo                          30416 non-null  object\n",
            " 3   idade                         30416 non-null  object\n",
            " 4   data_inicio_sintomas          29384 non-null  object\n",
            " 5   raca                          24084 non-null  object\n",
            " 6   etnia                         3 non-null      object\n",
            " 7   sintomas_apresentados         28492 non-null  object\n",
            " 8   outros_sintomas               4939 non-null   object\n",
            " 9   doencas_preexistentes         10568 non-null  object\n",
            " 10  outras_doencas_preexistentes  5965 non-null   object\n",
            " 11  evolucao                      29585 non-null  object\n",
            " 12  classificacao_final           30416 non-null  object\n",
            " 13  data_obito                    7638 non-null   object\n",
            " 14  profissional_saude            21316 non-null  object\n",
            " 15  categoria_profissional        2891 non-null   object\n",
            " 16  municipio_notificacao         18537 non-null  object\n",
            " 17  bairro                        30416 non-null  object\n",
            " 18  ds                            30416 non-null  object\n",
            "dtypes: int64(1), object(18)\n",
            "memory usage: 4.4+ MB\n"
          ]
        }
      ]
    },
    {
      "cell_type": "markdown",
      "metadata": {
        "id": "c7K12N6YYGh0"
      },
      "source": [
        "Percebemos que todas as colunas da base de dados está como o tipo \"objeto\", ou seja, está como string. Precisamos tratar e transformar de acordo com os dados de cada coluna."
      ]
    },
    {
      "cell_type": "code",
      "metadata": {
        "colab": {
          "base_uri": "https://localhost:8080/"
        },
        "id": "wsf7eKF2p3e5",
        "outputId": "f7d4c80e-46de-4779-835c-b7404f398d6f"
      },
      "source": [
        "# Quantidade de linhas e colunas do data frame\n",
        "\n",
        "df.shape"
      ],
      "execution_count": null,
      "outputs": [
        {
          "output_type": "execute_result",
          "data": {
            "text/plain": [
              "(30416, 19)"
            ]
          },
          "metadata": {},
          "execution_count": 6
        }
      ]
    },
    {
      "cell_type": "markdown",
      "metadata": {
        "id": "4jv4YG14Ugwv"
      },
      "source": [
        "A base de dados utilizada possui 30416 linhas e 19 colunas"
      ]
    },
    {
      "cell_type": "code",
      "metadata": {
        "colab": {
          "base_uri": "https://localhost:8080/"
        },
        "id": "vTaOuz-QojNq",
        "outputId": "fe292e04-6a3b-49ac-91b9-7374014e8647"
      },
      "source": [
        "#Cálculo da quantidade de dados nulos por coluna em percentual\n",
        "\n",
        "((df.isnull().sum()[df.isnull().sum() != 0] / df.shape[0])*100).sort_values(ascending = False).round(2)"
      ],
      "execution_count": null,
      "outputs": [
        {
          "output_type": "execute_result",
          "data": {
            "text/plain": [
              "etnia                           99.99\n",
              "categoria_profissional          90.50\n",
              "outros_sintomas                 83.76\n",
              "outras_doencas_preexistentes    80.39\n",
              "data_obito                      74.89\n",
              "doencas_preexistentes           65.26\n",
              "municipio_notificacao           39.06\n",
              "profissional_saude              29.92\n",
              "raca                            20.82\n",
              "sintomas_apresentados            6.33\n",
              "data_inicio_sintomas             3.39\n",
              "evolucao                         2.73\n",
              "dtype: float64"
            ]
          },
          "metadata": {},
          "execution_count": 7
        }
      ]
    },
    {
      "cell_type": "markdown",
      "metadata": {
        "id": "qpkyYLiaqtKs"
      },
      "source": [
        "Podemos desconsiderar as colunas com valores acima de 80% de dados faltantes:\n",
        "outras_doencas_preexistentes, outros_sintomas, categoria_profissional, etnia"
      ]
    },
    {
      "cell_type": "code",
      "metadata": {
        "colab": {
          "base_uri": "https://localhost:8080/",
          "height": 394
        },
        "id": "zVghxSSqu16D",
        "outputId": "54cb9329-f4ff-4e2d-b894-1e3e5e9f702b"
      },
      "source": [
        "#Exclusão das colunas com percentual de dados nulos acima de 80%\n",
        "\n",
        "df.drop('etnia',axis=1,inplace=True)\n",
        "df.drop('categoria_profissional',axis=1,inplace=True)\n",
        "df.drop('outros_sintomas',axis=1,inplace=True)\n",
        "df.drop('outras_doencas_preexistentes',axis=1,inplace=True)\n",
        "\n",
        "#Exclusão de colunas irrelevantes\n",
        "\n",
        "df.drop('ds',axis=1,inplace=True)\n",
        "df.drop('_id',axis=1,inplace=True)\n",
        "\n",
        "df.head()"
      ],
      "execution_count": null,
      "outputs": [
        {
          "output_type": "execute_result",
          "data": {
            "text/html": [
              "<div>\n",
              "<style scoped>\n",
              "    .dataframe tbody tr th:only-of-type {\n",
              "        vertical-align: middle;\n",
              "    }\n",
              "\n",
              "    .dataframe tbody tr th {\n",
              "        vertical-align: top;\n",
              "    }\n",
              "\n",
              "    .dataframe thead th {\n",
              "        text-align: right;\n",
              "    }\n",
              "</style>\n",
              "<table border=\"1\" class=\"dataframe\">\n",
              "  <thead>\n",
              "    <tr style=\"text-align: right;\">\n",
              "      <th></th>\n",
              "      <th>data_notificacao</th>\n",
              "      <th>sexo</th>\n",
              "      <th>idade</th>\n",
              "      <th>data_inicio_sintomas</th>\n",
              "      <th>raca</th>\n",
              "      <th>sintomas_apresentados</th>\n",
              "      <th>doencas_preexistentes</th>\n",
              "      <th>evolucao</th>\n",
              "      <th>classificacao_final</th>\n",
              "      <th>data_obito</th>\n",
              "      <th>profissional_saude</th>\n",
              "      <th>municipio_notificacao</th>\n",
              "      <th>bairro</th>\n",
              "    </tr>\n",
              "  </thead>\n",
              "  <tbody>\n",
              "    <tr>\n",
              "      <th>0</th>\n",
              "      <td>2021-03-02T00:00:00</td>\n",
              "      <td>Masculino</td>\n",
              "      <td>9 meses</td>\n",
              "      <td>2021-02-24T00:00:00</td>\n",
              "      <td>Ignorado</td>\n",
              "      <td>Febre, Tosse, Dispneia, Coriza / Congestão Nasal</td>\n",
              "      <td>Doenças Respiratórias Crônicas</td>\n",
              "      <td>INTERNADO LEITO DE ISOLAMENTO</td>\n",
              "      <td>DESCARTADO</td>\n",
              "      <td>NaN</td>\n",
              "      <td>NÃO</td>\n",
              "      <td>Recife</td>\n",
              "      <td>PASSARINHO</td>\n",
              "    </tr>\n",
              "    <tr>\n",
              "      <th>1</th>\n",
              "      <td>2021-03-03T00:00:00</td>\n",
              "      <td>Feminino</td>\n",
              "      <td>46</td>\n",
              "      <td>2021-02-28T00:00:00</td>\n",
              "      <td>Branca</td>\n",
              "      <td>Dispneia, Dor de Garganta, Cansaço/fadiga, Cef...</td>\n",
              "      <td>NaN</td>\n",
              "      <td>INTERNADO LEITO DE ISOLAMENTO</td>\n",
              "      <td>EM ANÁLISE</td>\n",
              "      <td>NaN</td>\n",
              "      <td>NÃO</td>\n",
              "      <td>Recife</td>\n",
              "      <td>BOA VIAGEM</td>\n",
              "    </tr>\n",
              "    <tr>\n",
              "      <th>2</th>\n",
              "      <td>2021-01-08T00:00:00</td>\n",
              "      <td>Masculino</td>\n",
              "      <td>78</td>\n",
              "      <td>2021-01-06T00:00:00</td>\n",
              "      <td>Branca</td>\n",
              "      <td>Tosse, Dispneia, Dor de Garganta, Cansaço/fadi...</td>\n",
              "      <td>Doenças Cardíacas ou Vasculares, Doença Hepáti...</td>\n",
              "      <td>ÓBITO</td>\n",
              "      <td>CONFIRMADO</td>\n",
              "      <td>2021-01-26T00:00:00</td>\n",
              "      <td>NÃO</td>\n",
              "      <td>Recife</td>\n",
              "      <td>BOA VIAGEM</td>\n",
              "    </tr>\n",
              "    <tr>\n",
              "      <th>3</th>\n",
              "      <td>2021-03-02T00:00:00</td>\n",
              "      <td>Feminino</td>\n",
              "      <td>62</td>\n",
              "      <td>2021-02-23T00:00:00</td>\n",
              "      <td>Parda</td>\n",
              "      <td>Febre, Tosse, Dor de Garganta, Cansaço/fadiga,...</td>\n",
              "      <td>NaN</td>\n",
              "      <td>INTERNADO LEITO DE ISOLAMENTO</td>\n",
              "      <td>EM ANÁLISE</td>\n",
              "      <td>NaN</td>\n",
              "      <td>NÃO</td>\n",
              "      <td>Recife</td>\n",
              "      <td>DOIS UNIDOS</td>\n",
              "    </tr>\n",
              "    <tr>\n",
              "      <th>4</th>\n",
              "      <td>2021-03-01T00:00:00</td>\n",
              "      <td>Masculino</td>\n",
              "      <td>26</td>\n",
              "      <td>2021-02-24T00:00:00</td>\n",
              "      <td>Parda</td>\n",
              "      <td>Tosse, Dor de Garganta, Desconforto respiratór...</td>\n",
              "      <td>NaN</td>\n",
              "      <td>INTERNADO LEITO DE ISOLAMENTO</td>\n",
              "      <td>DESCARTADO</td>\n",
              "      <td>NaN</td>\n",
              "      <td>NÃO</td>\n",
              "      <td>Recife</td>\n",
              "      <td>NOVA DESCOBERTA</td>\n",
              "    </tr>\n",
              "  </tbody>\n",
              "</table>\n",
              "</div>"
            ],
            "text/plain": [
              "      data_notificacao       sexo  ... municipio_notificacao           bairro\n",
              "0  2021-03-02T00:00:00  Masculino  ...                Recife       PASSARINHO\n",
              "1  2021-03-03T00:00:00   Feminino  ...                Recife       BOA VIAGEM\n",
              "2  2021-01-08T00:00:00  Masculino  ...                Recife       BOA VIAGEM\n",
              "3  2021-03-02T00:00:00   Feminino  ...                Recife      DOIS UNIDOS\n",
              "4  2021-03-01T00:00:00  Masculino  ...                Recife  NOVA DESCOBERTA\n",
              "\n",
              "[5 rows x 13 columns]"
            ]
          },
          "metadata": {},
          "execution_count": 8
        }
      ]
    },
    {
      "cell_type": "code",
      "metadata": {
        "id": "K0O5ID1ptaqv"
      },
      "source": [
        "# Transformação das colunas em data\n",
        "\n",
        "df.data_notificacao = pd.to_datetime(df.data_notificacao)\n",
        "df.data_inicio_sintomas = pd.to_datetime(df.data_inicio_sintomas)\n",
        "df.data_obito = pd.to_datetime(df.data_obito)"
      ],
      "execution_count": null,
      "outputs": []
    },
    {
      "cell_type": "code",
      "metadata": {
        "id": "B64v8tjZftJD"
      },
      "source": [
        "#Colunas de mes e ano referente as datas preenchidas na base de dados\n",
        "\n",
        "df['mes_obito'] = df['data_obito'].dt.month\n",
        "df['ano_obito'] = df['data_obito'].dt.year\n",
        "df['mes_notificacao'] = df['data_notificacao'].dt.month\n",
        "df['ano_notificacao'] = df['data_notificacao'].dt.year\n",
        "df['mes_inicio_sintomas'] = df['data_inicio_sintomas'].dt.month\n",
        "df['ano_inicio_sintomas'] = df['data_inicio_sintomas'].dt.year"
      ],
      "execution_count": null,
      "outputs": []
    },
    {
      "cell_type": "code",
      "metadata": {
        "colab": {
          "base_uri": "https://localhost:8080/"
        },
        "id": "AgBzmLZsZePx",
        "outputId": "ddabc0e1-8beb-4409-c1e1-aaf68b989e80"
      },
      "source": [
        "#Verificação do conteudo da coluna \"idade\"\n",
        "\n",
        "df['idade'].unique()"
      ],
      "execution_count": null,
      "outputs": [
        {
          "output_type": "execute_result",
          "data": {
            "text/plain": [
              "array(['9 meses', '46', '78', '62', '26', '39', '1', '34', '61', '59',\n",
              "       '2', '48', '69', '93', '57', '80', '54', '56', '75', '30', '67',\n",
              "       '58', '83', '79', '94', '53', '87', '71', '6 meses', '31', '73',\n",
              "       '24', '45', '81', '86', '43', '92', '36', '44', '84', '42', '70',\n",
              "       '72', '23', '35', '64', '60', '88', '37', '52', '65', '47', '49',\n",
              "       '77', '1 mês', '3 meses', '29', '55', '32', '82', '90', '27',\n",
              "       '5 meses', '66', '74', '38', '76', '68', '89', '0', '18', '5',\n",
              "       '85', '33', '12', '40', '41', '51', '50', '63', '101', '28', '3',\n",
              "       '8', '4 meses', '8 meses', '22', '25', '7', '6', '17', '95', '91',\n",
              "       '96', '20', '99', '4', '13', '16', '10', '21', '19', '9',\n",
              "       '10 meses', '2 meses', 'IGN', '103', '11 meses', '15', '100', '98',\n",
              "       '14', '97', '11', '106', '105', '104', '7 meses', '107', '114',\n",
              "       '102', '109', '0 meses'], dtype=object)"
            ]
          },
          "metadata": {},
          "execution_count": 11
        }
      ]
    },
    {
      "cell_type": "code",
      "metadata": {
        "id": "nNtblf3_c-xE"
      },
      "source": [
        "# Para não ter string e numero na mesma coluna, foi necessário considerar idades menores que 1 ano = 1 ano\n",
        "\n",
        "df.idade = df.idade.str.replace('0 meses','1')\n",
        "df.idade = df.idade.str.replace('1 mês','1')\n",
        "df.idade = df.idade.str.replace('2 meses','1')\n",
        "df.idade = df.idade.str.replace('3 meses','1')\n",
        "df.idade = df.idade.str.replace('4 meses','1')\n",
        "df.idade = df.idade.str.replace('5 meses','1')\n",
        "df.idade = df.idade.str.replace('6 meses','1')\n",
        "df.idade = df.idade.str.replace('7 meses','1')\n",
        "df.idade = df.idade.str.replace('8 meses','1')\n",
        "df.idade = df.idade.str.replace('9 meses','1')\n",
        "df.idade = df.idade.str.replace('10 meses','1')\n",
        "df.idade = df.idade.str.replace('11 meses','1')\n",
        "df.idade = df.idade.str.replace('IGN','0')"
      ],
      "execution_count": null,
      "outputs": []
    },
    {
      "cell_type": "code",
      "metadata": {
        "id": "hqKLas8YdnUo"
      },
      "source": [
        "# Transformando a coluna idade em numero inteiro\n",
        "\n",
        "df.idade = pd.to_numeric (df.idade)"
      ],
      "execution_count": null,
      "outputs": []
    },
    {
      "cell_type": "code",
      "metadata": {
        "colab": {
          "base_uri": "https://localhost:8080/"
        },
        "id": "Alpx0iTjd_R9",
        "outputId": "1970fc9e-a55e-42a7-91a3-23a4590361cf"
      },
      "source": [
        "#Verificação das transformações das colunas\n",
        "\n",
        "df.info()"
      ],
      "execution_count": null,
      "outputs": [
        {
          "output_type": "stream",
          "name": "stdout",
          "text": [
            "<class 'pandas.core.frame.DataFrame'>\n",
            "RangeIndex: 30416 entries, 0 to 30415\n",
            "Data columns (total 19 columns):\n",
            " #   Column                 Non-Null Count  Dtype         \n",
            "---  ------                 --------------  -----         \n",
            " 0   data_notificacao       30416 non-null  datetime64[ns]\n",
            " 1   sexo                   30416 non-null  object        \n",
            " 2   idade                  30416 non-null  int64         \n",
            " 3   data_inicio_sintomas   29384 non-null  datetime64[ns]\n",
            " 4   raca                   24084 non-null  object        \n",
            " 5   sintomas_apresentados  28492 non-null  object        \n",
            " 6   doencas_preexistentes  10568 non-null  object        \n",
            " 7   evolucao               29585 non-null  object        \n",
            " 8   classificacao_final    30416 non-null  object        \n",
            " 9   data_obito             7638 non-null   datetime64[ns]\n",
            " 10  profissional_saude     21316 non-null  object        \n",
            " 11  municipio_notificacao  18537 non-null  object        \n",
            " 12  bairro                 30416 non-null  object        \n",
            " 13  mes_obito              7638 non-null   float64       \n",
            " 14  ano_obito              7638 non-null   float64       \n",
            " 15  mes_notificacao        30416 non-null  int64         \n",
            " 16  ano_notificacao        30416 non-null  int64         \n",
            " 17  mes_inicio_sintomas    29384 non-null  float64       \n",
            " 18  ano_inicio_sintomas    29384 non-null  float64       \n",
            "dtypes: datetime64[ns](3), float64(4), int64(3), object(9)\n",
            "memory usage: 4.4+ MB\n"
          ]
        }
      ]
    },
    {
      "cell_type": "markdown",
      "metadata": {
        "id": "Ws34NMSgEACo"
      },
      "source": [
        "Verificamos que as colunas de datas estão com o formato de \"datatime\" e os de meses e anos estão como números."
      ]
    },
    {
      "cell_type": "code",
      "metadata": {
        "colab": {
          "base_uri": "https://localhost:8080/"
        },
        "id": "H0evqAQnea_A",
        "outputId": "39123617-dfb2-4882-87f0-381e0e090e43"
      },
      "source": [
        "#Calculo dos percentuais de casos por genero e por raça\n",
        "\n",
        "print('SEXO:')\n",
        "print((df['sexo'].value_counts(normalize=True)*100).round(2))\n",
        "print('====================')\n",
        "print('RAÇA:')\n",
        "print((df['raca'].value_counts(normalize=True)*100).round(2))"
      ],
      "execution_count": null,
      "outputs": [
        {
          "output_type": "stream",
          "name": "stdout",
          "text": [
            "SEXO:\n",
            "Feminino     50.60\n",
            "Masculino    49.40\n",
            "Ignorado      0.01\n",
            "Name: sexo, dtype: float64\n",
            "====================\n",
            "RAÇA:\n",
            "Parda       50.44\n",
            "Ignorado    25.69\n",
            "Branca      19.42\n",
            "Preta        3.75\n",
            "Amarela      0.64\n",
            "Indígena     0.07\n",
            "Name: raca, dtype: float64\n"
          ]
        }
      ]
    },
    {
      "cell_type": "markdown",
      "metadata": {
        "id": "ODUHx-2tU3-W"
      },
      "source": [
        "Na distribuição de casos por genero não percebemos muita diferença, pois os percentuais de feminino e masculino estão bem próximos. No entanto, quando analisamos a distribuição por raça, percebemos que a metade dos casos estão concentrados na raça parda e a outra metade distribuida entre pessoas que não responderam sobre a raça e pessoas brancas. As raças preta, amarela e indigena possuem percentuais mais baixos."
      ]
    },
    {
      "cell_type": "code",
      "metadata": {
        "colab": {
          "base_uri": "https://localhost:8080/",
          "height": 265
        },
        "id": "C9_ZQ9rlhxph",
        "outputId": "8d352899-0f38-40d5-c76a-91eb52c902f3"
      },
      "source": [
        "#Representação gráfica da distribuição dos casos por genero\n",
        "\n",
        "(df['sexo'].value_counts(normalize=True)*100).plot.pie(autopct='%.2f')"
      ],
      "execution_count": null,
      "outputs": [
        {
          "output_type": "execute_result",
          "data": {
            "text/plain": [
              "<matplotlib.axes._subplots.AxesSubplot at 0x7fef5db5d050>"
            ]
          },
          "metadata": {},
          "execution_count": 17
        },
        {
          "output_type": "display_data",
          "data": {
            "image/png": "[encoded data removed]",
            "text/plain": [
              "<Figure size 432x288 with 1 Axes>"
            ]
          },
          "metadata": {}
        }
      ]
    },
    {
      "cell_type": "code",
      "metadata": {
        "colab": {
          "base_uri": "https://localhost:8080/",
          "height": 317
        },
        "id": "1-xOkEHkhhtn",
        "outputId": "749d9ecb-dda9-47b2-9304-ca6e25f439f1"
      },
      "source": [
        "#Representação gráfica da distribuição dos casos por raça\n",
        "\n",
        "(df['raca'].value_counts(normalize=True)*100).plot.bar()"
      ],
      "execution_count": null,
      "outputs": [
        {
          "output_type": "execute_result",
          "data": {
            "text/plain": [
              "<matplotlib.axes._subplots.AxesSubplot at 0x7fef5dbd1bd0>"
            ]
          },
          "metadata": {},
          "execution_count": 16
        },
        {
          "output_type": "display_data",
          "data": {
            "image/png": "[encoded data removed]",
            "text/plain": [
              "<Figure size 432x288 with 1 Axes>"
            ]
          },
          "metadata": {
            "needs_background": "light"
          }
        }
      ]
    },
    {
      "cell_type": "code",
      "metadata": {
        "colab": {
          "base_uri": "https://localhost:8080/",
          "height": 282
        },
        "id": "xLoGFxGjM8D0",
        "outputId": "edc6e4e1-9f22-4de8-bf7f-bc8fc100e721"
      },
      "source": [
        "#Representação gráfica da distribuição de casos por idade dos pacientes\n",
        "\n",
        "df['idade'].plot(kind = 'hist', edgecolor = 'black')"
      ],
      "execution_count": null,
      "outputs": [
        {
          "output_type": "execute_result",
          "data": {
            "text/plain": [
              "<matplotlib.axes._subplots.AxesSubplot at 0x7fef5d5a04d0>"
            ]
          },
          "metadata": {},
          "execution_count": 19
        },
        {
          "output_type": "display_data",
          "data": {
            "image/png": "[encoded data removed]",
            "text/plain": [
              "<Figure size 432x288 with 1 Axes>"
            ]
          },
          "metadata": {
            "needs_background": "light"
          }
        }
      ]
    },
    {
      "cell_type": "markdown",
      "metadata": {
        "id": "EmcTSazkV5iW"
      },
      "source": [
        "Podemos perceber que a concentração maior de casos de COVID 19 foi em pacientes entre 50 e 70 anos."
      ]
    },
    {
      "cell_type": "code",
      "metadata": {
        "id": "Eiqmo-uebq7O"
      },
      "source": [
        "#Exportando base transformada\n",
        "\n",
        "df.to_csv('base_covid_transformada.csv', index=False)"
      ],
      "execution_count": null,
      "outputs": []
    },
    {
      "cell_type": "markdown",
      "metadata": {
        "id": "WxCCZDRnLG6f"
      },
      "source": [
        "QUESTÃO 1\n",
        "\n",
        "Qual o percentual de casos graves que foram óbitos desde o ínicio da pandemia?"
      ]
    },
    {
      "cell_type": "code",
      "metadata": {
        "colab": {
          "base_uri": "https://localhost:8080/",
          "height": 483
        },
        "id": "2i-Oj0st1ILP",
        "outputId": "06dd17a6-ee81-41e6-bc76-90f7026b580f"
      },
      "source": [
        "#Geração de gráfico em pizza para ilustrar os percentuais relativos à classificação de acordo com a evolução dos casos\n",
        "\n",
        "df.groupby('evolucao').size().plot(kind='pie',  figsize=(8, 8), autopct='%.2f')"
      ],
      "execution_count": null,
      "outputs": [
        {
          "output_type": "execute_result",
          "data": {
            "text/plain": [
              "<matplotlib.axes._subplots.AxesSubplot at 0x7fef5d5542d0>"
            ]
          },
          "metadata": {},
          "execution_count": 21
        },
        {
          "output_type": "display_data",
          "data": {
            "image/png": "[encoded data removed]",
            "text/plain": [
              "<Figure size 576x576 with 1 Axes>"
            ]
          },
          "metadata": {}
        }
      ]
    },
    {
      "cell_type": "markdown",
      "metadata": {
        "id": "fegeFCnBLaMD"
      },
      "source": [
        "Podemos verificar que de todos os casos graves registrados tivemos 36% de pacientes recuperados e 25,8% de pacientes que foram a óbito. "
      ]
    },
    {
      "cell_type": "markdown",
      "metadata": {
        "id": "05zrptfZMbvo"
      },
      "source": [
        "QUESTÃO 2\n",
        "\n",
        "Há alguma relação dos casos que foram a óbito com o genero dos pacientes?"
      ]
    },
    {
      "cell_type": "code",
      "metadata": {
        "colab": {
          "base_uri": "https://localhost:8080/",
          "height": 361
        },
        "id": "DDaqwo706xzG",
        "outputId": "569f4055-3f64-44ea-c8dc-19fb8dc69c91"
      },
      "source": [
        "#Geração de gráficos com a classificação da evolução analisados separadamente para os generos masculino e feminino\n",
        "\n",
        "#Mantendo apenas as linhas cujos valores para a coluna sexo sejam \"Masculino\" ou \"Feminino\" (Removendo valores \"Ignorado\")\n",
        "df_s = df.loc[df['sexo'].isin(['Masculino', 'Feminino'])]\n",
        "\n",
        "f, a = plt.subplots(1,2)\n",
        "for sx, ax in zip(set(df_s.sexo), a.ravel()):\n",
        "  df_s[df_s.sexo.eq(sx)].groupby('evolucao').size().plot.pie( y='sexo', ax=ax, label=sx, figsize=(13, 8), autopct='%.2f')\n",
        "\n",
        "plt.show()"
      ],
      "execution_count": null,
      "outputs": [
        {
          "output_type": "display_data",
          "data": {
            "image/png": "[encoded data removed]",
            "text/plain": [
              "<Figure size 936x576 with 2 Axes>"
            ]
          },
          "metadata": {}
        }
      ]
    },
    {
      "cell_type": "markdown",
      "metadata": {
        "id": "ask3s-6KN-wX"
      },
      "source": [
        "Analisando os percentuais apresentados nos graficos, podemos perceber que o maior percentual nos dois generos (Masculino e Feminino) é o de recuperados, em torno de 36%. Quando analisamos os percentuais de óbito, percebemos que o masculino tem percentual maior, em torno e 27%, contra um percentual de 24,5% do genero feminino. "
      ]
    },
    {
      "cell_type": "markdown",
      "metadata": {
        "id": "dQvmeXcUOqGR"
      },
      "source": [
        "QUESTÃO 3\n",
        "\n",
        "Qual a quantidade de óbitos por mês?"
      ]
    },
    {
      "cell_type": "code",
      "metadata": {
        "colab": {
          "base_uri": "https://localhost:8080/"
        },
        "id": "cgpFofBiuAg1",
        "outputId": "6e36f637-14a0-4fed-8a0c-59b0e1fbdbad"
      },
      "source": [
        "#Geração dos valores de quantidade de óbito por mês\n",
        "df_obito = df.loc[df['evolucao'].isin(['ÓBITO'])]\n",
        "\n",
        "#Como esta extração não possui todos os dados do mês de setembro/2021, serão utilizados os dados até o mês de agosto/2021\n",
        "df_obito = df_obito[df_obito['data_obito'] < '2021-09-01']\n",
        "\n",
        "df_obito['data_obito'].groupby(df.data_obito.dt.to_period(\"M\")).agg('count')"
      ],
      "execution_count": null,
      "outputs": [
        {
          "output_type": "execute_result",
          "data": {
            "text/plain": [
              "data_obito\n",
              "2020-03      31\n",
              "2020-04     668\n",
              "2020-05    1473\n",
              "2020-06     583\n",
              "2020-07     363\n",
              "2020-08     255\n",
              "2020-09     191\n",
              "2020-10     163\n",
              "2020-11     264\n",
              "2020-12     372\n",
              "2021-01     364\n",
              "2021-02     266\n",
              "2021-03     614\n",
              "2021-04     654\n",
              "2021-05     579\n",
              "2021-06     424\n",
              "2021-07     233\n",
              "2021-08     116\n",
              "Freq: M, Name: data_obito, dtype: int64"
            ]
          },
          "metadata": {},
          "execution_count": 23
        }
      ]
    },
    {
      "cell_type": "code",
      "metadata": {
        "id": "65Vrz2HYvPk1",
        "colab": {
          "base_uri": "https://localhost:8080/",
          "height": 363
        },
        "outputId": "7eee3e58-083f-4cca-97ec-cbd594ef95d7"
      },
      "source": [
        "#Geração de um gráfico de linha para analisar as tendencias da quantidade de óbito através dos meses\n",
        "\n",
        "df_obito['data_obito'].groupby(df.data_obito.dt.to_period(\"M\")).agg('count').plot.line(figsize=(15,5))"
      ],
      "execution_count": null,
      "outputs": [
        {
          "output_type": "execute_result",
          "data": {
            "text/plain": [
              "<matplotlib.axes._subplots.AxesSubplot at 0x7fef5d4959d0>"
            ]
          },
          "metadata": {},
          "execution_count": 24
        },
        {
          "output_type": "display_data",
          "data": {
            "image/png": "[encoded data removed]",
            "text/plain": [
              "<Figure size 1080x360 with 1 Axes>"
            ]
          },
          "metadata": {
            "needs_background": "light"
          }
        }
      ]
    },
    {
      "cell_type": "markdown",
      "metadata": {
        "id": "yUqnfbqmPAuW"
      },
      "source": [
        "Podemos perceber que o maior pico de óbitos por COVID 19 foi em maio de 2020, com queda nos meses subsequentes. Tendencia de aumento a partir de fevereiro de 2021, tendo pico em abril e tendencia de queda nos meses subsequesentes."
      ]
    },
    {
      "cell_type": "markdown",
      "metadata": {
        "id": "4rVqSB-uPw7k"
      },
      "source": [
        "QUESTÃO 4\n",
        "\n",
        "Visto que o número de óbitos em 2021 foi menor do que 2020, tem-se a mesma tendencia em todos os bairros do Recife?"
      ]
    },
    {
      "cell_type": "code",
      "metadata": {
        "colab": {
          "base_uri": "https://localhost:8080/",
          "height": 462
        },
        "id": "Q4MVut5UycGT",
        "outputId": "83ccbe00-b1a6-4f1a-d067-815664a75d25"
      },
      "source": [
        "#Geração de um grafico de barras para comparar os numeros de óbitos por ano para cada bairro do Recife\n",
        "\n",
        "df_obito_bairro = df.loc[df['evolucao'].isin(['ÓBITO'])]\n",
        "\n",
        "df_obito_bairro_2020 = df_obito[df_obito['data_obito'] < '2021-01-01']\n",
        "\n",
        "df_obito_bairro_2021 = df_obito[df_obito['data_obito'] >= '2021-01-01']\n",
        "\n",
        "pd.concat({\n",
        "    '2020': df_obito_bairro_2020['evolucao'].groupby(df.bairro).agg('count'), \n",
        "    '2021': df_obito_bairro_2021['evolucao'].groupby(df.bairro).agg('count')\n",
        "    }, axis=1).plot.bar(figsize=(20,5))"
      ],
      "execution_count": null,
      "outputs": [
        {
          "output_type": "execute_result",
          "data": {
            "text/plain": [
              "<matplotlib.axes._subplots.AxesSubplot at 0x7fef5d3cf510>"
            ]
          },
          "metadata": {},
          "execution_count": 25
        },
        {
          "output_type": "display_data",
          "data": {
            "image/png": "[encoded data removed]",
            "text/plain": [
              "<Figure size 1440x360 with 1 Axes>"
            ]
          },
          "metadata": {
            "needs_background": "light"
          }
        }
      ]
    },
    {
      "cell_type": "markdown",
      "metadata": {
        "id": "cyAmmiM0QKIt"
      },
      "source": [
        "Percebe-se uma tendencia de decrescimento na maioria dos bairros de 2020 para 2021, como Afogados, Cohab, Nova Descoberta, etc. Entretanto há alguns bairros que tiveram um aumento de casos de óbito em 2021 como Alto do Mandu, Barro, Campo Grande, Cidade Universitaria, Coqueiral e Fundao. Para esses bairros que vemos o aumento em 2021 a prefeitura pode utilizar o gráfico para direcionar politicas publicas, campanhas de vacinação, etc. como tratativa para diminuir os casos de óbito.\n"
      ]
    },
    {
      "cell_type": "markdown",
      "metadata": {
        "id": "lHwDUh8OSESG"
      },
      "source": [
        "QUESTÃO 5\n",
        "\n",
        "Qual o percentual de pacientes de casos graves que são profissionais da saude?"
      ]
    },
    {
      "cell_type": "code",
      "metadata": {
        "colab": {
          "base_uri": "https://localhost:8080/",
          "height": 265
        },
        "id": "UMsAu0JFUzgt",
        "outputId": "848e6fdc-89ac-4973-b22d-9b495d53bb7e"
      },
      "source": [
        "#Geração de um gráfico de pizza para analisar a quantidade de casos relacionados aos profissionais de saude\n",
        "\n",
        "percent_ps = df.profissional_saude.value_counts() / df['profissional_saude'].notnull().sum()\n",
        "percent_ps.plot(kind='pie', autopct='%.2f' )\n",
        "\n",
        "\n"
      ],
      "execution_count": null,
      "outputs": [
        {
          "output_type": "execute_result",
          "data": {
            "text/plain": [
              "<matplotlib.axes._subplots.AxesSubplot at 0x7fef5d495910>"
            ]
          },
          "metadata": {},
          "execution_count": 26
        },
        {
          "output_type": "display_data",
          "data": {
            "image/png": "[encoded data removed]",
            "text/plain": [
              "<Figure size 432x288 with 1 Axes>"
            ]
          },
          "metadata": {}
        }
      ]
    },
    {
      "cell_type": "markdown",
      "metadata": {
        "id": "ZKLk2N0KGNyE"
      },
      "source": [
        "Apesar dos profissionais de saude terem maior contato com a doença por estarem em hospitais, podemos perceber que a maioria dos casos registrados são de pessoas que não trabalham nessa área, com 86,4%. "
      ]
    },
    {
      "cell_type": "markdown",
      "metadata": {
        "id": "54IzrClKSSqU"
      },
      "source": [
        "QUESTÃO 6\n",
        "\n",
        "Ter alguma doença preexistente influencia na evolução para óbito?"
      ]
    },
    {
      "cell_type": "code",
      "metadata": {
        "colab": {
          "base_uri": "https://localhost:8080/",
          "height": 282
        },
        "id": "DaHlcKxiMXBB",
        "outputId": "82156d73-83db-45ab-b0f7-d5d41199676a"
      },
      "source": [
        "#Geração de gráfico para comparar número de óbitos em pacientes com e sem doenças preexistentes.\n",
        "\n",
        "df_obito['doencas_preexistentes_bool'] = df_obito['doencas_preexistentes'].notnull().map({True : 'Com doenças preex.', False : 'Sem doenças preex.'})\n",
        "\n",
        "df_obito.groupby('doencas_preexistentes_bool').size().plot(kind='barh', color = ['purple','blue'])"
      ],
      "execution_count": null,
      "outputs": [
        {
          "output_type": "execute_result",
          "data": {
            "text/plain": [
              "<matplotlib.axes._subplots.AxesSubplot at 0x7fef5cf89750>"
            ]
          },
          "metadata": {},
          "execution_count": 27
        },
        {
          "output_type": "display_data",
          "data": {
            "image/png": "[encoded data removed]",
            "text/plain": [
              "<Figure size 432x288 with 1 Axes>"
            ]
          },
          "metadata": {
            "needs_background": "light"
          }
        }
      ]
    },
    {
      "cell_type": "markdown",
      "metadata": {
        "id": "iOf3xGlrRk85"
      },
      "source": [
        "Considerando \"True\" como casos de óbito em pacientes com doenças preexistentes e \"False\" em pacientes sem doenças preexistentes, concluimos que o maior numero de casos foram com doenças preexistentes, então pode ter alguma influencia na evolução da doença."
      ]
    }
  ]
}